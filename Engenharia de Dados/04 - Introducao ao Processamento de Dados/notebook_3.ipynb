{
 "cells": [
  {
   "cell_type": "code",
   "execution_count": 2,
   "id": "3b48676a",
   "metadata": {},
   "outputs": [
    {
     "name": "stdout",
     "output_type": "stream",
     "text": [
      "Iniciando contagem...\n",
      "Contagem finalizada\n",
      "50000000\n",
      "Iniciando contagem...\n",
      "Contagem finalizada\n",
      "50000000\n",
      "Tempo total de execução: 6.49 segundos\n"
     ]
    }
   ],
   "source": [
    "import time\n",
    "\n",
    "inicio = time.perf_counter()\n",
    "\n",
    "def calcula_soma():\n",
    "    print('Iniciando contagem...')\n",
    "    soma = 0\n",
    "    for i in range(50_000_000):\n",
    "        soma = soma + 1\n",
    "    print('Contagem finalizada')\n",
    "    print(soma)\n",
    "\n",
    "calcula_soma()\n",
    "calcula_soma()\n",
    "\n",
    "fim = time.perf_counter()\n",
    "total = round(fim - inicio, 2)\n",
    "print(f'Tempo total de execução: {total} segundos')"
   ]
  },
  {
   "cell_type": "code",
   "execution_count": 4,
   "id": "a6eccada",
   "metadata": {},
   "outputs": [
    {
     "name": "stdout",
     "output_type": "stream",
     "text": [
      "Tempo total de execução: 0.09 segundos\n"
     ]
    }
   ],
   "source": [
    "import time\n",
    "import multiprocessing\n",
    "\n",
    "def calcula_soma():\n",
    "    print('Iniciando contagem...')\n",
    "    soma = 0\n",
    "    for i in range(50_000_000):\n",
    "        soma = soma + 1\n",
    "    print('Contagem finalizada')\n",
    "    print(soma)\n",
    "\n",
    "\n",
    "if __name__ == '__main__':\n",
    "    \n",
    "    inicio = time.perf_counter()\n",
    "\n",
    "    cod1 = multiprocessing.Process(target=calcula_soma)\n",
    "    cod2 = multiprocessing.Process(target=calcula_soma)\n",
    "\n",
    "    cod1.start()\n",
    "    cod2.start()\n",
    "\n",
    "    cod1.join()\n",
    "    cod2.join()\n",
    "    \n",
    "    fim = time.perf_counter()\n",
    "    total = round(fim - inicio, 2)\n",
    "    print(f'Tempo total de execução: {total} segundos')"
   ]
  }
 ],
 "metadata": {
  "kernelspec": {
   "display_name": "base",
   "language": "python",
   "name": "python3"
  },
  "language_info": {
   "codemirror_mode": {
    "name": "ipython",
    "version": 3
   },
   "file_extension": ".py",
   "mimetype": "text/x-python",
   "name": "python",
   "nbconvert_exporter": "python",
   "pygments_lexer": "ipython3",
   "version": "3.12.7"
  }
 },
 "nbformat": 4,
 "nbformat_minor": 5
}
